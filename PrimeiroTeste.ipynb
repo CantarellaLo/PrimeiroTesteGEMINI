{
  "nbformat": 4,
  "nbformat_minor": 0,
  "metadata": {
    "colab": {
      "provenance": [],
      "authorship_tag": "ABX9TyNzp+RA/T9OYo4CkwCHlx9U",
      "include_colab_link": true
    },
    "kernelspec": {
      "name": "python3",
      "display_name": "Python 3"
    },
    "language_info": {
      "name": "python"
    }
  },
  "cells": [
    {
      "cell_type": "markdown",
      "metadata": {
        "id": "view-in-github",
        "colab_type": "text"
      },
      "source": [
        "<a href=\"https://colab.research.google.com/github/CantarellaLo/PrimeiroTesteGEMINI/blob/main/PrimeiroTeste.ipynb\" target=\"_parent\"><img src=\"https://colab.research.google.com/assets/colab-badge.svg\" alt=\"Open In Colab\"/></a>"
      ]
    },
    {
      "cell_type": "code",
      "execution_count": null,
      "metadata": {
        "id": "mblN2gFZIofT"
      },
      "outputs": [],
      "source": [
        "!pip install -q -U google-generativeai"
      ]
    },
    {
      "cell_type": "code",
      "source": [
        "# Import the Python SDK\n",
        "import google.generativeai as genai\n",
        "from google.colab import userdata\n",
        "api_key = userdata.get(\"SECRET_KEY\")\n",
        "genai.configure(api_key=api_key)"
      ],
      "metadata": {
        "id": "b2FqamgYJsOl"
      },
      "execution_count": null,
      "outputs": []
    },
    {
      "cell_type": "code",
      "source": [
        "for m in genai.list_models():\n",
        "  if 'generateContent' in m.supported_generation_methods:\n",
        "    print(m.name)"
      ],
      "metadata": {
        "colab": {
          "base_uri": "https://localhost:8080/",
          "height": 139
        },
        "id": "cOelDEinLYou",
        "outputId": "f927cf52-d4cb-4c6c-d237-b5ab0f884206"
      },
      "execution_count": null,
      "outputs": [
        {
          "output_type": "stream",
          "name": "stdout",
          "text": [
            "models/gemini-1.0-pro\n",
            "models/gemini-1.0-pro-001\n",
            "models/gemini-1.0-pro-latest\n",
            "models/gemini-1.0-pro-vision-latest\n",
            "models/gemini-1.5-pro-latest\n",
            "models/gemini-pro\n",
            "models/gemini-pro-vision\n"
          ]
        }
      ]
    },
    {
      "cell_type": "code",
      "source": [
        "model = genai.GenerativeModel(model_name=\"gemini-1.5-pro-latest\")"
      ],
      "metadata": {
        "id": "LarIN9fUNvMu"
      },
      "execution_count": null,
      "outputs": []
    },
    {
      "cell_type": "code",
      "source": [
        "response = model.generate_content(\"Sugestoes para estudo de IA\")\n",
        "print(response.text)"
      ],
      "metadata": {
        "colab": {
          "base_uri": "https://localhost:8080/",
          "height": 922
        },
        "id": "NFyi38S6OPOu",
        "outputId": "64e73b62-51f8-47ac-9e22-3a861652c4b5"
      },
      "execution_count": null,
      "outputs": [
        {
          "output_type": "stream",
          "name": "stdout",
          "text": [
            "## Sugestões para estudo de IA:\n",
            "\n",
            "**1. Defina seus objetivos:**\n",
            "\n",
            "* **O que te motiva a estudar IA?**  Carreira, hobby, pesquisa? \n",
            "* **Qual área da IA te interessa?** Machine learning, deep learning, visão computacional, processamento de linguagem natural, robótica?\n",
            "* **Qual seu nível de conhecimento?** Iniciante, intermediário, avançado?\n",
            "* **Quanto tempo e recursos você pode dedicar?**\n",
            "\n",
            "**2. Crie uma base sólida:**\n",
            "\n",
            "* **Matemática:** Cálculo, álgebra linear, probabilidade e estatística.\n",
            "* **Programação:** Python é a linguagem mais utilizada em IA, seguida por R e Java.\n",
            "* **Conceitos básicos de IA:**  Algoritmos de busca, lógica fuzzy, redes neurais.\n",
            "\n",
            "**3. Explore cursos online:**\n",
            "\n",
            "* **Plataformas populares:** Coursera, Udacity, edX, Udemy, Google AI Education.\n",
            "* **Cursos introdutórios:**  \"Machine Learning\" por Andrew Ng (Coursera), \"Elements of AI\" (Universidade de Helsinki).\n",
            "* **Cursos específicos:** Deep Learning Specialization (deeplearning.ai), Natural Language Processing Specialization (deeplearning.ai),  Self-Driving Car Engineer Nanodegree (Udacity).\n",
            "\n",
            "**4. Mergulhe em livros:**\n",
            "\n",
            "* **Para iniciantes:** \"Inteligência Artificial: Uma Abordagem Moderna\" por Stuart Russell e Peter Norvig, \"Deep Learning\" por Ian Goodfellow, Yoshua Bengio e Aaron Courville.\n",
            "* **Para áreas específicas:** \"Speech and Language Processing\" por Daniel Jurafsky e James H. Martin, \"Reinforcement Learning: An Introduction\" por Richard S. Sutton and Andrew G. Barto.\n",
            "\n",
            "**5. Experimente na prática:**\n",
            "\n",
            "* **Ferramentas:** TensorFlow, PyTorch, Keras, scikit-learn.\n",
            "* **Datasets:** Kaggle, UCI Machine Learning Repository, ImageNet.\n",
            "* **Projetos:** Crie seus próprios projetos para aplicar o que aprendeu.\n",
            "\n",
            "**6. Mantenha-se atualizado:**\n",
            "\n",
            "* **Blogs:** Google AI Blog, OpenAI Blog, Towards Data Science.\n",
            "* **Podcasts:**  \"Lex Fridman Podcast\", \"Talking Machines\", \"Data Skeptic\".\n",
            "* **Conferências:** NeurIPS, ICML, AAAI.\n",
            "\n",
            "**7. Conecte-se com a comunidade:**\n",
            "\n",
            "* **Fóruns online:** Reddit (r/MachineLearning, r/artificialintelligence), Stack Overflow.\n",
            "* **Grupos locais:** Meetups, hackathons.\n",
            "\n",
            "**Lembre-se:**\n",
            "\n",
            "* **Comece com o básico e vá progredindo gradualmente.**\n",
            "* **A prática é essencial para o aprendizado.**\n",
            "* **Seja paciente e persistente.**\n",
            "* **Aproveite o processo de descoberta!** \n",
            "\n",
            "Espero que essas sugestões te ajudem a iniciar sua jornada no mundo da IA!\n"
          ]
        }
      ]
    },
    {
      "cell_type": "code",
      "source": [
        "chat = model.start_chat(history=[])"
      ],
      "metadata": {
        "id": "2q1sdRVWO7ms"
      },
      "execution_count": null,
      "outputs": []
    },
    {
      "cell_type": "code",
      "source": [
        "prompt = input(\"Esperando prompt: \")\n",
        "\n",
        "while prompt != \"fim\":\n",
        "  response = chat.send_message(prompt)\n",
        "  print(\"Resposta: \", response.text, \"\\n\")\n",
        "  prompt = input(\"Esperando prompt:\")"
      ],
      "metadata": {
        "colab": {
          "base_uri": "https://localhost:8080/",
          "height": 593
        },
        "id": "0CPhe19cPUln",
        "outputId": "b8b547be-3968-44fb-8343-39bedbd296a2"
      },
      "execution_count": null,
      "outputs": [
        {
          "name": "stdout",
          "output_type": "stream",
          "text": [
            "Esperando prompt: Qual capitao do nepal?\n",
            "Resposta:  A capital do Nepal é **Catmandu**. \n",
            " \n",
            "\n",
            "Esperando prompt!Qual a comida tipica desse pais?\n",
            "Resposta:  Presumindo que você está perguntando sobre o Nepal, já que mencionou sua capital, Catmandu:\n",
            "\n",
            "A comida típica do Nepal é **Dal Bhat**. É um prato que consiste em arroz (bhat) e sopa de lentilhas (dal), geralmente acompanhado de vegetais curries, picles (achaar) e, às vezes, carne. É considerado o alimento básico do Nepal, consumido pela maioria da população diariamente. \n",
            "\n",
            "Outras comidas típicas do Nepal incluem:\n",
            "\n",
            "* **Momos:** Bolinhos cozidos no vapor ou fritos, recheados com carne ou vegetais.\n",
            "* **Chow mein:** Macarrão frito com vegetais e carne ou tofu.\n",
            "* **Thukpa:** Sopa de macarrão com carne ou vegetais.\n",
            "* **Yomari:** Bolinhos doces de arroz, geralmente consumidos durante festivais.\n",
            "\n",
            "A culinária nepalesa é influenciada pelas cozinhas indiana e tibetana, e é conhecida por seus sabores ricos e uso liberal de especiarias. \n",
            " \n",
            "\n",
            "Esperando prompt!Meu primo nasceu nessa cidade, onde ele nasceu?\n",
            "Resposta:  Se seu primo nasceu em Catmandu, então ele nasceu no **Nepal**. 😉 \n",
            " \n",
            "\n",
            "Esperando prompt!Qual a populacao\n",
            "Resposta:  A população de Catmandu, no Nepal, é de aproximadamente **1 milhão de habitantes**,  considerando a cidade propriamente dita.  \n",
            "\n",
            "Se levarmos em conta a Região Metropolitana de Catmandu, que engloba Catmandu e cidades adjacentes, a população chega a aproximadamente **2,5 milhões de habitantes.** \n",
            "\n",
            "Vale lembrar que esses números podem variar um pouco dependendo da fonte e da data da informação. \n",
            " \n",
            "\n",
            "Esperando prompt!fim\n"
          ]
        }
      ]
    },
    {
      "cell_type": "code",
      "source": [
        "#Melhorando a visualização\n",
        "#Código disponível em https://ai.google.dev/tutorials/python_quickstart#import_packages\n",
        "import textwrap\n",
        "from IPython.display import display\n",
        "from IPython.display import Markdown\n",
        "\n",
        "def to_markdown(text):\n",
        "  text = text.replace('•', '  *')\n",
        "  return Markdown(textwrap.indent(text, '> ', predicate=lambda _: True))\n",
        "\n",
        "#Imprimindo o histórico\n",
        "for message in chat.history:\n",
        "  display(to_markdown(f'**{message.role}**: {message.parts[0].text}'))\n",
        "  print('-------------------------------------------')"
      ],
      "metadata": {
        "colab": {
          "base_uri": "https://localhost:8080/",
          "height": 871
        },
        "id": "Tbr3jDw1RTcM",
        "outputId": "ce8f1a5c-5c7f-4d57-c1eb-4525e18cc945"
      },
      "execution_count": null,
      "outputs": [
        {
          "output_type": "display_data",
          "data": {
            "text/plain": [
              "<IPython.core.display.Markdown object>"
            ],
            "text/markdown": "> **user**: Qual a capitao da china?"
          },
          "metadata": {}
        },
        {
          "output_type": "stream",
          "name": "stdout",
          "text": [
            "-------------------------------------------\n"
          ]
        },
        {
          "output_type": "display_data",
          "data": {
            "text/plain": [
              "<IPython.core.display.Markdown object>"
            ],
            "text/markdown": "> **model**: A capital da China é **Pequim**. \n"
          },
          "metadata": {}
        },
        {
          "output_type": "stream",
          "name": "stdout",
          "text": [
            "-------------------------------------------\n"
          ]
        },
        {
          "output_type": "display_data",
          "data": {
            "text/plain": [
              "<IPython.core.display.Markdown object>"
            ],
            "text/markdown": "> **user**: Qual capitao do nepal?"
          },
          "metadata": {}
        },
        {
          "output_type": "stream",
          "name": "stdout",
          "text": [
            "-------------------------------------------\n"
          ]
        },
        {
          "output_type": "display_data",
          "data": {
            "text/plain": [
              "<IPython.core.display.Markdown object>"
            ],
            "text/markdown": "> **model**: A capital do Nepal é **Catmandu**. \n"
          },
          "metadata": {}
        },
        {
          "output_type": "stream",
          "name": "stdout",
          "text": [
            "-------------------------------------------\n"
          ]
        },
        {
          "output_type": "display_data",
          "data": {
            "text/plain": [
              "<IPython.core.display.Markdown object>"
            ],
            "text/markdown": "> **user**: Qual a comida tipica desse pais?"
          },
          "metadata": {}
        },
        {
          "output_type": "stream",
          "name": "stdout",
          "text": [
            "-------------------------------------------\n"
          ]
        },
        {
          "output_type": "display_data",
          "data": {
            "text/plain": [
              "<IPython.core.display.Markdown object>"
            ],
            "text/markdown": "> **model**: Presumindo que você está perguntando sobre o Nepal, já que mencionou sua capital, Catmandu:\n> \n> A comida típica do Nepal é **Dal Bhat**. É um prato que consiste em arroz (bhat) e sopa de lentilhas (dal), geralmente acompanhado de vegetais curries, picles (achaar) e, às vezes, carne. É considerado o alimento básico do Nepal, consumido pela maioria da população diariamente. \n> \n> Outras comidas típicas do Nepal incluem:\n> \n> * **Momos:** Bolinhos cozidos no vapor ou fritos, recheados com carne ou vegetais.\n> * **Chow mein:** Macarrão frito com vegetais e carne ou tofu.\n> * **Thukpa:** Sopa de macarrão com carne ou vegetais.\n> * **Yomari:** Bolinhos doces de arroz, geralmente consumidos durante festivais.\n> \n> A culinária nepalesa é influenciada pelas cozinhas indiana e tibetana, e é conhecida por seus sabores ricos e uso liberal de especiarias. \n"
          },
          "metadata": {}
        },
        {
          "output_type": "stream",
          "name": "stdout",
          "text": [
            "-------------------------------------------\n"
          ]
        },
        {
          "output_type": "display_data",
          "data": {
            "text/plain": [
              "<IPython.core.display.Markdown object>"
            ],
            "text/markdown": "> **user**: Meu primo nasceu nessa cidade, onde ele nasceu?"
          },
          "metadata": {}
        },
        {
          "output_type": "stream",
          "name": "stdout",
          "text": [
            "-------------------------------------------\n"
          ]
        },
        {
          "output_type": "display_data",
          "data": {
            "text/plain": [
              "<IPython.core.display.Markdown object>"
            ],
            "text/markdown": "> **model**: Se seu primo nasceu em Catmandu, então ele nasceu no **Nepal**. 😉 \n"
          },
          "metadata": {}
        },
        {
          "output_type": "stream",
          "name": "stdout",
          "text": [
            "-------------------------------------------\n"
          ]
        },
        {
          "output_type": "display_data",
          "data": {
            "text/plain": [
              "<IPython.core.display.Markdown object>"
            ],
            "text/markdown": "> **user**: Qual a populacao"
          },
          "metadata": {}
        },
        {
          "output_type": "stream",
          "name": "stdout",
          "text": [
            "-------------------------------------------\n"
          ]
        },
        {
          "output_type": "display_data",
          "data": {
            "text/plain": [
              "<IPython.core.display.Markdown object>"
            ],
            "text/markdown": "> **model**: A população de Catmandu, no Nepal, é de aproximadamente **1 milhão de habitantes**,  considerando a cidade propriamente dita.  \n> \n> Se levarmos em conta a Região Metropolitana de Catmandu, que engloba Catmandu e cidades adjacentes, a população chega a aproximadamente **2,5 milhões de habitantes.** \n> \n> Vale lembrar que esses números podem variar um pouco dependendo da fonte e da data da informação. \n"
          },
          "metadata": {}
        },
        {
          "output_type": "stream",
          "name": "stdout",
          "text": [
            "-------------------------------------------\n"
          ]
        }
      ]
    }
  ]
}